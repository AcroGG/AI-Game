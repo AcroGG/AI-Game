{
 "cells": [
  {
   "cell_type": "markdown",
   "metadata": {},
   "source": [
    "Theory: \n",
    "Outline for Snake AI Game\n",
    "        "
   ]
  },
  {
   "cell_type": "markdown",
   "metadata": {},
   "source": [
    "Agent:\n",
    "    -game\n",
    "    -Model\n",
    "Training:\n",
    "    -start = get_state(game)\n",
    "    -action = get_move(state):\n",
    "        -model.predict()\n",
    "    -reward,game_end_tally, score = game.play_step(action)\n",
    "    -new_state = get_state(game)\n",
    "    -remember\n",
    "    -model.train()\n",
    "\n",
    "Game(Pygame):\n",
    "    -play_step(action)\n",
    "        -reward, game_end_tally, score\n",
    "\n",
    "Model(Pytorch):\n",
    "    -Linear_QNet(DQN)\n",
    "        -model.predict(state)\n",
    "            -action"
   ]
  },
  {
   "cell_type": "markdown",
   "metadata": {},
   "source": [
    "Reward:  way snake learns correct actions\n",
    "    when snake eats +10 reward\n",
    "    when game over -10\n",
    "    else 0\n",
    "Action:   movements snake will take\n",
    "    [1,0,0]straight\n",
    "    [0,1,0]right turn\n",
    "    [0,0,1]left turn\n",
    "State(11 Value):  snake must know about environment this will determing boolean values in the array about what move to make\n",
    "    [\n",
    "    danger straight, danger right, danger left\n",
    "    \n",
    "    direction left,direction right, \n",
    "    direction up, direction down\n",
    "    \n",
    "    food left, food right,\n",
    "    food up, food down\n",
    "    ]\n",
    "\n",
    "Model:\n",
    "    input layer, hidden layer, output layer\n",
    "    input takes in states, hidden layer calculates, output layer sends out 3 outputs for the Action prediction\n",
    "Deep Q learning:\n",
    "iterative training loop\n",
    "    Q = quality of action\n",
    "    0. init Q value(=init model)\n",
    "    1. Choose action(model.predict(state)) or a random move usually in the beginning snake has no real knowledge of the game yet\n",
    "    2. perform action\n",
    "    3. measure reward\n",
    "    4. update Q value (train model)\n",
    "        move back to step 1\n",
    "    Step 4:\n",
    "    To train the model and update new Q value must find out the loss and error rate. use an activation function to find that.\n",
    "    activation function to use\n",
    "    Bellman Equation simplified:\n",
    "        Q = model.predict(state0)\n",
    "        Qnew = R + (discount rate) * max(Q(state1))\n",
    "        loss = (Qnew - Q)**2 this is basically the mean Squared error\n",
    "\n",
    "\n"
   ]
  }
 ],
 "metadata": {
  "kernelspec": {
   "display_name": "virtual",
   "language": "python",
   "name": "python3"
  },
  "language_info": {
   "codemirror_mode": {
    "name": "ipython",
    "version": 3
   },
   "file_extension": ".py",
   "mimetype": "text/x-python",
   "name": "python",
   "nbconvert_exporter": "python",
   "pygments_lexer": "ipython3",
   "version": "3.11.4"
  },
  "orig_nbformat": 4
 },
 "nbformat": 4,
 "nbformat_minor": 2
}
